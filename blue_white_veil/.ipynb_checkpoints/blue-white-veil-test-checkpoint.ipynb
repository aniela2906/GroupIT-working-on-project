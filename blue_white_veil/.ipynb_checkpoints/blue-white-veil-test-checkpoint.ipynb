{
 "cells": [
  {
   "cell_type": "markdown",
   "id": "2fdec308",
   "metadata": {},
   "source": [
    "# Blue-white veil test\n",
    "\n"
   ]
  },
  {
   "cell_type": "markdown",
   "id": "5ca820c3",
   "metadata": {},
   "source": [
    "## INPUT: image path, mask path\n",
    "## OUTPUT: yes, no if the blue-white veil is detected\n",
    "\n",
    "### description:\n",
    "1. load images\n",
    "2. convert image to HSV color space\n",
    "3. create mask for blue and combine with orginal mask\n",
    "4. return ratio of blue-white0veil part/ full size of image range [0,1]\n",
    "5. ratio >0.1 - yes, else no\n",
    "\n",
    "### WARNING: do not upload masks that have blue pen marks around lesion, because the result won't be reliable"
   ]
  },
  {
   "cell_type": "code",
   "execution_count": 15,
   "id": "9109afe8",
   "metadata": {},
   "outputs": [
    {
     "name": "stdout",
     "output_type": "stream",
     "text": [
      "Error loading image: \n"
     ]
    }
   ],
   "source": [
    "import cv2\n",
    "import numpy as np\n",
    "\n",
    "\n",
    "def calculate_blue_white_ratio(image_path, mask_path):\n",
    "    # load the image and mask\n",
    "    image = cv2.imread(image_path)\n",
    "    mask = cv2.imread(mask_path, cv2.IMREAD_GRAYSCALE)\n",
    "\n",
    "    # check if images were loaded successfully\n",
    "    if image is None:\n",
    "        print(f\"Error loading image: {image_path}\")\n",
    "        return\n",
    "    if mask is None:\n",
    "        print(f\"Error loading mask: {mask_path}\")\n",
    "        return\n",
    "\n",
    "    # resize the mask to match the dimensions of the image\n",
    "    if image.shape[:2] != mask.shape[:2]:\n",
    "        print(\"Image and mask dimensions do not match. Resizing mask...\")\n",
    "        mask = cv2.resize(mask, (image.shape[1], image.shape[0]))\n",
    "\n",
    "    #  image to HSV \n",
    "    hsv_image = cv2.cvtColor(image, cv2.COLOR_BGR2HSV)\n",
    "\n",
    "    # define a range for blue\n",
    "    lower_blue = np.array([100, 50, 50])  \n",
    "    upper_blue = np.array([140, 255, 255])  \n",
    "\n",
    "    # define a range for white\n",
    "    lower_white = np.array([0, 0, 200])  \n",
    "    upper_white = np.array([180, 25, 255])  \n",
    "\n",
    "    # create a mask for blue and white colors\n",
    "    blue_mask = cv2.inRange(hsv_image, lower_blue, upper_blue)\n",
    "    white_mask = cv2.inRange(hsv_image, lower_white, upper_white)\n",
    "    \n",
    "    if cv2.countNonZero(blue_mask)==0:\n",
    "        return (\"no\")\n",
    "    else:\n",
    "        \n",
    "        # combine the blue and white masks\n",
    "        combined_color_mask = cv2.bitwise_or(blue_mask, white_mask)\n",
    "\n",
    "        # combine the color mask with the original lesion mask\n",
    "        combined_mask = cv2.bitwise_and(mask, mask, mask=combined_color_mask)\n",
    "\n",
    "        # calculate area of blue-white veil\n",
    "        blue_white_area = cv2.countNonZero(combined_mask)\n",
    "\n",
    "        # calculate area of the lesion (non-zero pixels in the mask)\n",
    "        lesion_area = cv2.countNonZero(mask)\n",
    "\n",
    "        # calculate the ratio of blue-white veil area to lesion area\n",
    "        ratio = blue_white_area / lesion_area\n",
    "\n",
    "        if ratio >0.1:\n",
    "            return(\"yes\")\n",
    "        else:\n",
    "            return(\"no\")\n",
    "        \n",
    "# in\n",
    "\n",
    "image_path = ''\n",
    "mask_path = ''\n",
    "\n",
    "# out\n",
    "blue_white_ratio = calculate_blue_white_ratio(image_path, mask_path)"
   ]
  }
 ],
 "metadata": {
  "kernelspec": {
   "display_name": "Python 3 (ipykernel)",
   "language": "python",
   "name": "python3"
  },
  "language_info": {
   "codemirror_mode": {
    "name": "ipython",
    "version": 3
   },
   "file_extension": ".py",
   "mimetype": "text/x-python",
   "name": "python",
   "nbconvert_exporter": "python",
   "pygments_lexer": "ipython3",
   "version": "3.11.4"
  }
 },
 "nbformat": 4,
 "nbformat_minor": 5
}
