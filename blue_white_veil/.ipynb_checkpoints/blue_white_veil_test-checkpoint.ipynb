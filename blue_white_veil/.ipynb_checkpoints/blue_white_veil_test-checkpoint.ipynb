{
 "cells": [
  {
   "cell_type": "markdown",
   "id": "2fdec308",
   "metadata": {},
   "source": [
    "# Blue-white veil test\n",
    "\n"
   ]
  },
  {
   "cell_type": "markdown",
   "id": "5ca820c3",
   "metadata": {},
   "source": [
    "## INPUT: image path, mask path\n",
    "## OUTPUT: yes(1)/ no(0) if the blue-white veil is detected\n",
    "\n",
    "### description:\n",
    "1. Load images\n",
    "2. convert image to HSV color space\n",
    "3. create mask for blue and combine with orginal mask\n",
    "4. return ratio of blue-white0veil part/ full size of image range [0;1]\n",
    "5. if ratio >0.1 : 1, else : 0\n",
    "\n",
    "### WARNING: do not uplad masks that have blue pen marks around lesion, then the result is not reliable"
   ]
  },
  {
   "cell_type": "code",
   "execution_count": 15,
   "id": "9109afe8",
   "metadata": {},
   "outputs": [
    {
     "name": "stdout",
     "output_type": "stream",
     "text": [
      "Error loading image: \n"
     ]
    }
   ],
   "source": [
    "import cv2\n",
    "import numpy as np\n",
    "\n",
    "\n",
    "def calculate_blue_white_ratio(image_path, mask_path):\n",
    "    # Load the image and mask\n",
    "    image = cv2.imread(image_path)\n",
    "    mask = cv2.imread(mask_path, cv2.IMREAD_GRAYSCALE)\n",
    "\n",
    "    # Check if images were loaded successfully\n",
    "    if image is None:\n",
    "        print(f\"Error loading image: {image_path}\")\n",
    "        return\n",
    "    if mask is None:\n",
    "        print(f\"Error loading mask: {mask_path}\")\n",
    "        return\n",
    "\n",
    "    # Resize the mask to match the dimensions of the image\n",
    "    if image.shape[:2] != mask.shape[:2]:\n",
    "        print(\"Image and mask dimensions do not match. Resizing mask...\")\n",
    "        mask = cv2.resize(mask, (image.shape[1], image.shape[0]))\n",
    "\n",
    "    # Convert image to HSV color space\n",
    "    hsv_image = cv2.cvtColor(image, cv2.COLOR_BGR2HSV)\n",
    "\n",
    "    # Define broader range for blue colors in HSV\n",
    "    lower_blue = np.array([100, 50, 50])  # Adjusted range for blue\n",
    "    upper_blue = np.array([140, 255, 255])  # Adjusted range for blue\n",
    "\n",
    "    # Define a range for detecting white or very light colors\n",
    "    lower_white = np.array([0, 0, 200])  # Range for white\n",
    "    upper_white = np.array([180, 25, 255])  # Range for white\n",
    "\n",
    "    # Create a mask for blue and white colors\n",
    "    blue_mask = cv2.inRange(hsv_image, lower_blue, upper_blue)\n",
    "    white_mask = cv2.inRange(hsv_image, lower_white, upper_white)\n",
    "    \n",
    "    if cv2.countNonZero(blue_mask)==0:\n",
    "        return (\"no\")\n",
    "    else:\n",
    "        \n",
    "        # Combine the blue and white masks\n",
    "        combined_color_mask = cv2.bitwise_or(blue_mask, white_mask)\n",
    "\n",
    "        # Combine the color mask with the original lesion mask\n",
    "        combined_mask = cv2.bitwise_and(mask, mask, mask=combined_color_mask)\n",
    "\n",
    "        # Calculate area of blue-white veil\n",
    "        blue_white_area = cv2.countNonZero(combined_mask)\n",
    "\n",
    "        # Calculate area of the lesion (non-zero pixels in the mask)\n",
    "        lesion_area = cv2.countNonZero(mask)\n",
    "\n",
    "        # Calculate the ratio of blue-white veil area to lesion area\n",
    "        ratio = blue_white_area / lesion_area\n",
    "\n",
    "        if ratio >0.1:\n",
    "            return(\"1\")\n",
    "        else:\n",
    "            return(\"0\")\n",
    "\n",
    "   # File paths relative to the script location\n",
    "image_path = ''\n",
    "mask_path = ''\n",
    "\n",
    "# Calculate blue-white veil area ratio\n",
    "blue_white_ratio = calculate_blue_white_ratio(image_path, mask_path)"
   ]
  },
  {
   "cell_type": "markdown",
   "id": "aaffd83d",
   "metadata": {},
   "source": [
    "## For all photos in the folder, Output in a CSV file"
   ]
  },
  {
   "cell_type": "code",
   "execution_count": 16,
   "id": "c8429c1f",
   "metadata": {},
   "outputs": [
    {
     "name": "stdout",
     "output_type": "stream",
     "text": [
      "Done :)\n"
     ]
    }
   ],
   "source": [
    "import os\n",
    "import csv\n",
    "\n",
    "# Path to the folder containing images and masks\n",
    "folder_path = '.'  # images, masks, and CSV file are in the same folder\n",
    "\n",
    "# Open the CSV file for reading\n",
    "with open('imageID_sheet.csv', 'r') as csvfile:\n",
    "    reader = csv.reader(csvfile)\n",
    "    next(reader)  # Skip header row\n",
    "\n",
    "    # Open a new CSV file for writing\n",
    "    with open('comparison_BW_veil.csv', 'w', newline='') as outfile:\n",
    "        writer = csv.writer(outfile)\n",
    "        \n",
    "        # Iterate over rows in the CSV file\n",
    "        for row in reader:\n",
    "            image_name = row[0] + '.png'  # Assuming image names are in the first column\n",
    "            mask_name = row[0] + '_mask.png'\n",
    "            image_path = os.path.join(folder_path, image_name)\n",
    "            mask_path = os.path.join(folder_path, mask_name)\n",
    "\n",
    "            try:\n",
    "                # Calculate colorfulness score\n",
    "                blue_white_ratio = calculate_blue_white_ratio(image_path, mask_path)\n",
    "                \n",
    "                # Update the row with the computed score\n",
    "                row.append(blue_white_ratio)\n",
    "\n",
    "                # Write the updated row to the output CSV file\n",
    "                writer.writerow(row)\n",
    "            except FileNotFoundError:\n",
    "                print(f\"File not found: {image_name} or {mask_name}. Skipping...\")\n",
    "\n",
    "print(\"Done :)\")"
   ]
  }
 ],
 "metadata": {
  "kernelspec": {
   "display_name": "Python 3 (ipykernel)",
   "language": "python",
   "name": "python3"
  },
  "language_info": {
   "codemirror_mode": {
    "name": "ipython",
    "version": 3
   },
   "file_extension": ".py",
   "mimetype": "text/x-python",
   "name": "python",
   "nbconvert_exporter": "python",
   "pygments_lexer": "ipython3",
   "version": "3.11.4"
  }
 },
 "nbformat": 4,
 "nbformat_minor": 5
}
