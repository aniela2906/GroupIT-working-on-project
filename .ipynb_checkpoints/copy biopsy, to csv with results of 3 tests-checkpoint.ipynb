{
 "cells": [
  {
   "cell_type": "code",
   "execution_count": 4,
   "id": "7795387a",
   "metadata": {},
   "outputs": [],
   "source": [
    "import pandas as pd\n",
    "from fuzzywuzzy import fuzz\n",
    "\n",
    "# with 3 test result\n",
    "output_results = pd.read_csv(\"C:/Users/cieci/OneDrive/Pulpit/i/i_result.csv\", sep=\";\")\n",
    "\n",
    "# Load the biopsy.csv file\n",
    "biopsy = pd.read_csv(\"C:/Users/cieci/OneDrive/Pulpit/i/biopsy.csv\", sep=\";\")\n",
    "\n",
    "# Function to find best match for image_path\n",
    "def find_best_match(image_path, image_paths):\n",
    "    best_match = None\n",
    "    max_score = -1\n",
    "    for path in image_paths:\n",
    "        score = fuzz.partial_ratio(image_path, path)\n",
    "        if score > max_score:\n",
    "            max_score = score\n",
    "            best_match = path\n",
    "    return best_match\n",
    "\n",
    "# Find best matches for image_path in output_results\n",
    "biopsy['best_match'] = biopsy['img_id'].apply(lambda x: find_best_match(x, output_results['image_path']))\n",
    "\n",
    "# Merge based on best_match\n",
    "merged_data = pd.merge(output_results, biopsy, left_on=\"image_path\", right_on=\"best_match\", how=\"left\")\n",
    "\n",
    "# Fill NaN values in the 'biopsed' column with False\n",
    "merged_data['biopsed'] = merged_data['biopsed'].fillna(False)\n",
    "\n",
    "# Select desired columns\n",
    "final_data = merged_data[['image_path', 'color_score', 'symmetry_score', 'blue_white_score', 'biopsed']]\n",
    "\n",
    "# Save the final_data to a new CSV file\n",
    "final_data.to_csv(\"C:/Users/cieci/OneDrive/Dokumenty/GitHub/G/output_results_with_biopsed_i.csv\", index=False)\n"
   ]
  },
  {
   "cell_type": "code",
   "execution_count": null,
   "id": "69a97dfc",
   "metadata": {},
   "outputs": [],
   "source": []
  }
 ],
 "metadata": {
  "kernelspec": {
   "display_name": "Python 3 (ipykernel)",
   "language": "python",
   "name": "python3"
  },
  "language_info": {
   "codemirror_mode": {
    "name": "ipython",
    "version": 3
   },
   "file_extension": ".py",
   "mimetype": "text/x-python",
   "name": "python",
   "nbconvert_exporter": "python",
   "pygments_lexer": "ipython3",
   "version": "3.11.4"
  }
 },
 "nbformat": 4,
 "nbformat_minor": 5
}
