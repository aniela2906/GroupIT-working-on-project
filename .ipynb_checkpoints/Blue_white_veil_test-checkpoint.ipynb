{
 "cells": [
  {
   "cell_type": "markdown",
   "id": "e1bd04bc",
   "metadata": {},
   "source": [
    "# Blue-white veil test\n",
    "\n"
   ]
  },
  {
   "cell_type": "markdown",
   "id": "4da5b463",
   "metadata": {},
   "source": [
    "## INPUT: image path, mask path\n",
    "## OUTPUT: yes, no if the blue-white veil is detected\n",
    "\n",
    "### description:\n",
    "1. Load images\n",
    "2. convert image to HSV color space\n",
    "3. create mask for blue and combine with orginal mask\n",
    "4. return ratio of blue-white0veil part/ full size of image range [0,1]\n",
    "5. ratio >0.1 - yes, else no\n",
    "\n",
    "### WARNING: do not uplad masks that have blue pen marks around lesion, then the result is not reliable"
   ]
  },
  {
   "cell_type": "code",
   "execution_count": 1,
   "id": "7e860302",
   "metadata": {
    "scrolled": true
   },
   "outputs": [
    {
     "name": "stdout",
     "output_type": "stream",
     "text": [
      "Error loading image: PAT_63_99_189.png\n",
      "Ratio of Blue-White Veil to Lesion: None\n"
     ]
    }
   ],
   "source": [
    "import cv2\n",
    "import numpy as np\n",
    "\n",
    "\n",
    "def calculate_blue_white_ratio(image_path, mask_path):\n",
    "    # Load the image and mask\n",
    "    image = cv2.imread(image_path)\n",
    "    mask = cv2.imread(mask_path, cv2.IMREAD_GRAYSCALE)\n",
    "\n",
    "    # Check if images were loaded successfully\n",
    "    if image is None:\n",
    "        print(f\"Error loading image: {image_path}\")\n",
    "        return\n",
    "    if mask is None:\n",
    "        print(f\"Error loading mask: {mask_path}\")\n",
    "        return\n",
    "\n",
    "    # Resize the mask to match the dimensions of the image\n",
    "    if image.shape[:2] != mask.shape[:2]:\n",
    "        print(\"Image and mask dimensions do not match. Resizing mask...\")\n",
    "        mask = cv2.resize(mask, (image.shape[1], image.shape[0]))\n",
    "\n",
    "    # Convert image to HSV color space\n",
    "    hsv_image = cv2.cvtColor(image, cv2.COLOR_BGR2HSV)\n",
    "\n",
    "    # Define broader range for blue colors in HSV\n",
    "    lower_blue = np.array([80, 30, 30])  # Adjusted range for blue\n",
    "    upper_blue = np.array([140, 255, 255])  # Adjusted range for blue\n",
    "\n",
    "    # Define a range for detecting white or very light colors\n",
    "    lower_white = np.array([0, 0, 200])  # Range for white\n",
    "    upper_white = np.array([180, 50, 255])  # Range for white\n",
    "\n",
    "    # Create a mask for blue and white colors\n",
    "    blue_mask = cv2.inRange(hsv_image, lower_blue, upper_blue)\n",
    "    white_mask = cv2.inRange(hsv_image, lower_white, upper_white)\n",
    "\n",
    "    # Combine the blue and white masks\n",
    "    combined_color_mask = cv2.bitwise_or(blue_mask, white_mask)\n",
    "\n",
    "    # Combine the color mask with the original lesion mask\n",
    "    combined_mask = cv2.bitwise_and(mask, mask, mask=combined_color_mask)\n",
    "\n",
    "    # Calculate area of blue-white veil\n",
    "    blue_white_area = cv2.countNonZero(combined_mask)\n",
    "\n",
    "    # Calculate area of the lesion (non-zero pixels in the mask)\n",
    "    lesion_area = cv2.countNonZero(mask)\n",
    "\n",
    "    # Calculate the ratio of blue-white veil area to lesion area\n",
    "    ratio = blue_white_area / lesion_area\n",
    "\n",
    "    if ratio > 0.1:\n",
    "        return \"yes\"\n",
    "    else:\n",
    "        return \"no\"\n",
    "\n",
    "\n",
    "# File paths relative to the script location\n",
    "image_path = 'PAT_63_99_189.png'\n",
    "mask_path = 'PAT_63_99_189_mask.png'\n",
    "\n",
    "# Calculate blue-white veil area ratio\n",
    "blue_white_ratio = calculate_blue_white_ratio(image_path, mask_path)\n",
    "print(f\"Ratio of Blue-White Veil to Lesion: {blue_white_ratio}\")"
   ]
  },
  {
   "cell_type": "code",
   "execution_count": null,
   "id": "d8c4d70c",
   "metadata": {},
   "outputs": [],
   "source": []
  }
 ],
 "metadata": {
  "kernelspec": {
   "display_name": "Python 3 (ipykernel)",
   "language": "python",
   "name": "python3"
  },
  "language_info": {
   "codemirror_mode": {
    "name": "ipython",
    "version": 3
   },
   "file_extension": ".py",
   "mimetype": "text/x-python",
   "name": "python",
   "nbconvert_exporter": "python",
   "pygments_lexer": "ipython3",
   "version": "3.11.4"
  }
 },
 "nbformat": 4,
 "nbformat_minor": 5
}
