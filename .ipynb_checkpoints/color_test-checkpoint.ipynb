{
 "cells": [
  {
   "cell_type": "markdown",
   "id": "e49db7f0",
   "metadata": {},
   "source": [
    "# COLOR TEST"
   ]
  },
  {
   "cell_type": "markdown",
   "id": "6d095c9f",
   "metadata": {},
   "source": [
    "### INPUT: image path and mask path\n",
    "### OUTPUT: color score\n",
    "\n",
    "## Destription:\n",
    " 1. Load image and mask using PIL\n",
    " 2. Convert imag and mask to numpy arrays \n",
    " 3. Get coordinates, crop\n",
    " 4. Calculate the variance of colors within the lesion\n",
    " 5. Compute the colorfulness score as the sum of variances across all color channels.\n",
    " 6. Output\n"
   ]
  },
  {
   "cell_type": "code",
   "execution_count": 3,
   "id": "9499b39b",
   "metadata": {},
   "outputs": [
    {
     "name": "stdout",
     "output_type": "stream",
     "text": [
      "Lesion Color Score: 2\n"
     ]
    }
   ],
   "source": [
    "\n",
    "from PIL import Image\n",
    "import numpy as np\n",
    "from skimage import segmentation\n",
    "import matplotlib.pyplot as plt\n",
    "\n",
    "def calculate_color_score(image_path, mask_path):\n",
    "    \n",
    "    # Load the image and its corresponding mask\n",
    "    image = Image.open(image_path)\n",
    "    mask = Image.open(mask_path).convert('L')\n",
    "\n",
    "    # Convert PIL image to numpy array\n",
    "    rgb_img = np.array(image)\n",
    "    mask = np.array(mask)\n",
    "\n",
    "    # Find coordinates of the lesion in the mask\n",
    "    lesion_coords = np.where(mask != 0)\n",
    "    min_x = min(lesion_coords[0])\n",
    "    max_x = max(lesion_coords[0])\n",
    "    min_y = min(lesion_coords[1])\n",
    "    max_y = max(lesion_coords[1])\n",
    "    cropped_lesion = rgb_img[min_x:max_x, min_y:max_y]\n",
    "\n",
    "\n",
    "    # Calculate the variance of colors within the lesion\n",
    "    color_variance = np.var(cropped_lesion, axis=(0, 1))\n",
    "\n",
    "    # Compute the colorfulness score as the sum of variances across all channels\n",
    "    colorfulness_score = np.sum(color_variance)\n",
    "\n",
    "    # Categorize the colorfulness score \n",
    "    if colorfulness_score > 10000:\n",
    "        color_score = 4\n",
    "    elif colorfulness_score > 5000:\n",
    "        color_score = 3\n",
    "    elif colorfulness_score > 1000:\n",
    "        color_score = 2\n",
    "    else:\n",
    "        color_score = 1\n",
    "\n",
    "    return color_score\n",
    "\n",
    "\n",
    "\n",
    "#add image and mask path \n",
    "image_path = \" \"\n",
    "mask_path = \" \"\n",
    "\n",
    "color_score = calculate_color_score(image_path, mask_path)\n",
    "print(\"Lesion Color Score:\", color_score)\n"
   ]
  },
  {
   "cell_type": "markdown",
   "id": "0be491da",
   "metadata": {},
   "source": [
    "## score description\n",
    "\n",
    "1. Low Colorfulness (0 - 1000): The image or region contains minimal color variation and appears relatively dull or monochromatic.\n",
    "2. Moderate Colorfulness (1000 - 5000): The image or region exhibits some color variation, but it may lack intensity or diversity. Colors are noticeable but not particularly vibrant.\n",
    "\n",
    "3. High Colorfulness (5000 - 10000): The image or region displays significant color variation with vibrant and diverse hues. Colors are vivid and eye-catching, contributing to a lively and dynamic appearance.\n",
    "\n",
    "4. Very High Colorfulness (above 10000): The image or region features an abundance of intense and varied colors, resembling a rainbow."
   ]
  }
 ],
 "metadata": {
  "kernelspec": {
   "display_name": "Python 3 (ipykernel)",
   "language": "python",
   "name": "python3"
  },
  "language_info": {
   "codemirror_mode": {
    "name": "ipython",
    "version": 3
   },
   "file_extension": ".py",
   "mimetype": "text/x-python",
   "name": "python",
   "nbconvert_exporter": "python",
   "pygments_lexer": "ipython3",
   "version": "3.11.4"
  }
 },
 "nbformat": 4,
 "nbformat_minor": 5
}
