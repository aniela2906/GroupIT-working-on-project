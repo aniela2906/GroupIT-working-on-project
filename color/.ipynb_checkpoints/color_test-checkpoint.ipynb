{
 "cells": [
  {
   "cell_type": "markdown",
   "id": "e49db7f0",
   "metadata": {},
   "source": [
    "# COLOR TEST"
   ]
  },
  {
   "cell_type": "markdown",
   "id": "914136ae",
   "metadata": {},
   "source": [
    "Here we have a color test based on RGB and HSV, in our case RGB turned out to preform better, therefore we used the 1st code in our final project. \n",
    "______________________"
   ]
  },
  {
   "cell_type": "markdown",
   "id": "2e2fc029",
   "metadata": {},
   "source": [
    "RGB test performs better than HSV test based on the outcomes form the computer compared to human eye.\n",
    "- RGB is based on intensity of the colors- directly corresponds how people see colors\n",
    "- HSV separates brightness (intensity) form the color information, do not capture colors as humans do,\n",
    "        brightness might discard som ecolor information (especially when brightness plays the sagnificant role in perseption of colors of lesions)\n",
    "___________________________________________________________________________________________________"
   ]
  },
  {
   "cell_type": "markdown",
   "id": "6d095c9f",
   "metadata": {},
   "source": [
    "### INPUT: image path and mask path\n",
    "### OUTPUT: color score\n",
    "\n",
    "## Destription:\n",
    " 1. Load image and mask using PIL\n",
    " 2. Convert imag and mask to numpy arrays \n",
    " 3. Get coordinates, crop\n",
    " 4. Calculate the variance of colors within the lesion\n",
    " 5. Compute the colorfulness score as the sum of variances across all color channels.\n",
    " 6. Output\n"
   ]
  },
  {
   "cell_type": "markdown",
   "id": "5c375552",
   "metadata": {},
   "source": [
    "# color test based on RGB"
   ]
  },
  {
   "cell_type": "code",
   "execution_count": 3,
   "id": "9499b39b",
   "metadata": {},
   "outputs": [
    {
     "name": "stdout",
     "output_type": "stream",
     "text": [
      "Lesion Color Score: 2\n"
     ]
    }
   ],
   "source": [
    "from PIL import Image\n",
    "import numpy as np\n",
    "from skimage import segmentation\n",
    "import matplotlib.pyplot as plt\n",
    "\n",
    "def calculate_color_score(image_path, mask_path):\n",
    "    \n",
    "    # load the image and its corresponding mask\n",
    "    image = Image.open(image_path)\n",
    "    mask = Image.open(mask_path).convert('L')\n",
    "\n",
    "    # PIL image to numpy array\n",
    "    rgb_img = np.array(image)\n",
    "    mask = np.array(mask)\n",
    "\n",
    "    # find coordinates of the lesion in the mask\n",
    "    lesion_coords = np.where(mask != 0)\n",
    "    min_x = min(lesion_coords[0])\n",
    "    max_x = max(lesion_coords[0])\n",
    "    min_y = min(lesion_coords[1])\n",
    "    max_y = max(lesion_coords[1])\n",
    "    cropped_lesion = rgb_img[min_x:max_x, min_y:max_y]\n",
    "\n",
    "\n",
    "    # calculate the variance of colors within the lesion\n",
    "    color_variance = np.var(cropped_lesion, axis=(0, 1))\n",
    "\n",
    "    #colorfulness score as the sum of variances across all channels\n",
    "    colorfulness_score = np.sum(color_variance)\n",
    "\n",
    "    # colorfulness score \n",
    "    if colorfulness_score > 10000:\n",
    "        color_score = 4\n",
    "    elif colorfulness_score > 5000:\n",
    "        color_score = 3\n",
    "    elif colorfulness_score > 1000:\n",
    "        color_score = 2\n",
    "    else:\n",
    "        color_score = 1\n",
    "\n",
    "    return color_score\n",
    "\n",
    "\n",
    "\n",
    "# image and mask path \n",
    "image_path = \"here put your image path :) \"\n",
    "mask_path = \" here put your mask path :) \"\n",
    "\n",
    "color_score = calculate_color_score(image_path, mask_path)\n",
    "print(\"Lesion Color Score:\", color_score)\n"
   ]
  },
  {
   "cell_type": "markdown",
   "id": "0be491da",
   "metadata": {},
   "source": [
    "## score description\n",
    "\n",
    "1. Low Colorfulness (0 - 1000): The image or region contains minimal color variation and appears relatively dull or monochromatic.\n",
    "2. Moderate Colorfulness (1000 - 5000): The image or region exhibits some color variation, but it may lack intensity or diversity. Colors are noticeable but not particularly vibrant.\n",
    "\n",
    "3. High Colorfulness (5000 - 10000): The image or region displays significant color variation with vibrant and diverse hues. Colors are vivid and eye-catching, contributing to a lively and dynamic appearance.\n",
    "\n",
    "4. Very High Colorfulness (above 10000): The image or region features an abundance of intense and varied colors, resembling a rainbow."
   ]
  },
  {
   "cell_type": "markdown",
   "id": "37f91db9",
   "metadata": {},
   "source": [
    "# color test based on HSV"
   ]
  },
  {
   "cell_type": "code",
   "execution_count": null,
   "id": "05b407bd",
   "metadata": {},
   "outputs": [],
   "source": [
    "#from PIL import Image\n",
    "#import numpy as np\n",
    "\n",
    "#def calculate_color_score(image_path, mask_path):\n",
    "    \n",
    "#   # load the image and its corresponding mask\n",
    "#    image = Image.open(image_path)\n",
    "#   mask = Image.open(mask_path).convert('L')\n",
    "#\n",
    "#   #  PIL image to numpy array\n",
    "#   rgb_img = np.array(image)\n",
    "#   mask = np.array(mask)\n",
    "#\n",
    "#   # find coordinates of the lesion in the mask\n",
    "#   lesion_coords = np.where(mask != 0)\n",
    "#   min_x = min(lesion_coords[0])\n",
    "#   max_x = max(lesion_coords[0])\n",
    "#   min_y = min(lesion_coords[1])\n",
    "#   max_y = max(lesion_coords[1])\n",
    "#   cropped_lesion = rgb_img[min_x:max_x, min_y:max_y]\n",
    "#\n",
    "#   # convert the cropped lesion to HSV color space\n",
    "#   hsv_lesion = rgb2hsv(cropped_lesion)\n",
    "#\n",
    "#   # calculate the variance of colors within the lesion in the HSV space\n",
    "#   color_variance_hue = np.var(hsv_lesion[:, :, 0])\n",
    "#   color_variance_saturation = np.var(hsv_lesion[:, :, 1])\n",
    "#   color_variance_value = np.var(hsv_lesion[:, :, 2])\n",
    "#\n",
    "#   # colorfulness score as the sum of variances across all channels\n",
    "#   colorfulness_score = color_variance_hue + color_variance_saturation + color_variance_value\n",
    "#\n",
    "#   # colorfulness score \n",
    "#   if colorfulness_score > 10000:\n",
    "#       color_score = 4\n",
    "#   elif colorfulness_score > 5000:\n",
    "#       color_score = 3\n",
    "#   elif colorfulness_score > 1000:\n",
    "#       color_score = 2\n",
    "#   else:\n",
    "#       color_score = 1\n",
    "#\n",
    "#   return color_score\n",
    "#\n",
    "#def rgb2hsv(rgb):\n",
    "#   # RGB values to [0, 1]\n",
    "#   rgb_normalized = rgb / 255.0\n",
    "#\n",
    "#   # extraction of RGB components\n",
    "#   r, g, b = rgb_normalized[:, :, 0], rgb_normalized[:, :, 1], rgb_normalized[:, :, 2]\n",
    "#\n",
    "#   # value (brightness)\n",
    "#   v = np.max(rgb_normalized, axis=2)\n",
    "#\n",
    "#   # saturation\n",
    "#   min_rgb = np.min(rgb_normalized, axis=2)\n",
    "#   delta = v - min_rgb\n",
    "#   s = np.where(v != 0, delta / v, 0)\n",
    "#\n",
    "#   # division by zero \n",
    "#   delta = np.where(delta == 0, 1, delta)  # set delta to 1 where it's zero\n",
    "#   # calculating hue\n",
    "#   delta_r = (v - r) / delta\n",
    "#   delta_g = (v - g) / delta\n",
    "#   delta_b = (v - b) / delta\n",
    "#\n",
    "#   h = np.zeros_like(v)\n",
    "#   h = np.where(delta == 0, 0, h)\n",
    "#   h = np.where(v == r, (60 * (delta_g - delta_b)) % 360, h)\n",
    "#   h = np.where(v == g, (60 * (delta_b - delta_r) + 120) % 360, h)\n",
    "#   h = np.where(v == b, (60 * (delta_r - delta_g) + 240) % 360, h)\n",
    "#\n",
    "#   # combine HSV components\n",
    "#   hsv = np.stack((h, s, v), axis=-1)\n",
    "#\n",
    "#   return hsv\n",
    "#\n",
    "#\n",
    "#\n",
    "# image and mask path \n",
    "#image_path = \" here put your image path :P \"\n",
    "#mask_path = \" here put your mask path :P \"\n",
    "#\n",
    "#color_score = calculate_color_score(image_path, mask_path)\n",
    "#print(\"Lesion Color Score:\", color_score)\n"
   ]
  }
 ],
 "metadata": {
  "kernelspec": {
   "display_name": "Python 3 (ipykernel)",
   "language": "python",
   "name": "python3"
  },
  "language_info": {
   "codemirror_mode": {
    "name": "ipython",
    "version": 3
   },
   "file_extension": ".py",
   "mimetype": "text/x-python",
   "name": "python",
   "nbconvert_exporter": "python",
   "pygments_lexer": "ipython3",
   "version": "3.11.4"
  }
 },
 "nbformat": 4,
 "nbformat_minor": 5
}
